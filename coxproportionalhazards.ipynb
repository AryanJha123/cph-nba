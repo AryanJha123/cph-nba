{
 "cells": [
  {
   "cell_type": "code",
   "execution_count": null,
   "id": "5b10fe66-4570-42f3-bbb9-255f7edbbb8d",
   "metadata": {},
   "outputs": [],
   "source": [
    "import pickle\n",
    "with open(\"dataset\", \"rb\") as fp: \n",
    "   data = pickle.load(fp)"
   ]
  },
  {
   "cell_type": "code",
   "execution_count": null,
   "id": "22598660-1d4e-482c-82b2-e072781263df",
   "metadata": {},
   "outputs": [],
   "source": [
    "import pandas as pd\n",
    "import seaborn as sns\n",
    "import numpy as np\n",
    " \n",
    "from lifelines.fitters.coxph_fitter import CoxPHFitter\n",
    "from lifelines.statistics import proportional_hazard_test\n",
    "from lifelines import KaplanMeierFitter"
   ]
  },
  {
   "cell_type": "code",
   "execution_count": null,
   "id": "85e0bdfc-0d21-4ba8-b386-07ecfd2fc8a1",
   "metadata": {},
   "outputs": [],
   "source": [
    "new_data = []\n",
    "\n",
    "for i in data:\n",
    "    if i[3] != \"2025\" and i[3] != \"2024\":\n",
    "        PG = SG = SF = PF = C = 0.0\n",
    "\n",
    "        pos = i[2] \n",
    "\n",
    "        if pos == \"Guard\":\n",
    "            PG = 1.0\n",
    "        elif pos == \"Forward\":\n",
    "            SF = 1.0\n",
    "        elif pos in [\"Guard-Forward\", \"Forward-Guard\"]:\n",
    "            SG = 0.5\n",
    "            SF = 0.5\n",
    "        elif pos in [\"Forward-Center\", \"Center-Forward\"]:\n",
    "            PF = 0.5\n",
    "            C = 0.5\n",
    "        elif pos == \"Center\":\n",
    "            C = 1.0\n",
    "\n",
    "        i_new = i + [PG, SG, SF, PF, C]\n",
    "        i_new[3] = int(i_new[3])\n",
    "\n",
    "        new_data.append(i_new)\n"
   ]
  },
  {
   "cell_type": "code",
   "execution_count": null,
   "id": "0da96704-4319-4502-97e9-d8c6f27d572d",
   "metadata": {},
   "outputs": [],
   "source": [
    "df = pd.DataFrame(new_data, columns=['Height', 'Weight', 'Position', 'Season', 'Age', 'ID', 'Games Played', 'Minutes Per Game', 'Field Goals Made', \n",
    "                                 'Field Goals Attempted', '3 Pointers Made', '3 Pointers Attempted', 'Rebounds', 'Assists', 'Turnovers', \n",
    "                                 'Steals', 'Blocks', 'Blocked Shots', 'Fouls', 'Fouls Drawn', 'Points', '<8 ft shots', '8-16 ft shots', \n",
    "                                 '16-24 ft shots', '24+ ft shots', 'Usage Rate', 'Season-ending Injury', 'PG', 'SG', 'SF', 'PF', 'C'])"
   ]
  },
  {
   "cell_type": "code",
   "execution_count": null,
   "id": "86330734-e0ff-4c23-8c2a-201b9a2d18f0",
   "metadata": {},
   "outputs": [],
   "source": [
    "important_df = df[['Height', 'Weight', 'Season', 'Age', 'Games Played', 'Minutes Per Game', 'Field Goals Made', \n",
    "                   'Field Goals Attempted', '3 Pointers Made', '3 Pointers Attempted', 'Rebounds', 'Assists', 'Turnovers', \n",
    "                   'Steals', 'Blocks', 'Blocked Shots', 'Fouls', 'Fouls Drawn', 'Points', '<8 ft shots', '8-16 ft shots', \n",
    "                   '16-24 ft shots', '24+ ft shots', 'Usage Rate', 'Season-ending Injury', 'PG', 'SG', 'SF', 'PF', 'C']]"
   ]
  },
  {
   "cell_type": "code",
   "execution_count": null,
   "id": "ebb00d26-a63d-4727-8b73-713d15c4780c",
   "metadata": {},
   "outputs": [],
   "source": [
    "# alpha value \n",
    "cph = CoxPHFitter(alpha=0.05, penalizer=0.0001, l1_ratio=0.5)\n",
    "cph.fit(important_df, 'Games Played', 'Season-ending Injury')"
   ]
  },
  {
   "cell_type": "code",
   "execution_count": null,
   "id": "f7c529a7-1e81-4b87-bfe2-686159facc92",
   "metadata": {
    "scrolled": true
   },
   "outputs": [],
   "source": [
    "cph.summary\n"
   ]
  },
  {
   "cell_type": "code",
   "execution_count": null,
   "id": "3df48bb4-2447-444d-9e52-39123ef16bdf",
   "metadata": {},
   "outputs": [],
   "source": [
    "import pandas as pd\n",
    "\n",
    "result = cph.summary[[\"exp(coef)\", \"exp(coef) lower 95%\", \"exp(coef) upper 95%\", \"p\"]]\n",
    "\n",
    "result_rounded = result.round(3)\n",
    "\n",
    "print(result_rounded.to_string())\n",
    "\n",
    "from tabulate import tabulate\n",
    "print(tabulate(result_rounded, headers=[\"Hazard Ratio\", \"95% CI (Lower)\", \"95% CI (Upper)\", \"P-Value\"], tablefmt=\"fancy_grid\"))\n"
   ]
  },
  {
   "cell_type": "code",
   "execution_count": null,
   "id": "924d05d6-b9ab-4875-a8b2-f06703304c35",
   "metadata": {
    "scrolled": true
   },
   "outputs": [],
   "source": [
    "cph.check_assumptions(important_df, p_value_threshold=0.05, show_plots=True)"
   ]
  },
  {
   "cell_type": "code",
   "execution_count": null,
   "id": "59928062-a63b-42ab-b317-38b174976c24",
   "metadata": {},
   "outputs": [],
   "source": [
    "mean_profile = important_df.drop(columns=['Games Played','Season-ending Injury']).mean().to_frame().T\n",
    "avg_surv = cph.predict_survival_function(mean_profile)\n"
   ]
  },
  {
   "cell_type": "code",
   "execution_count": null,
   "id": "4fe389a5-809f-44e3-b9c9-0a0eb6fc29b7",
   "metadata": {},
   "outputs": [],
   "source": [
    "import matplotlib.pyplot as plt\n",
    "baseline_survival = cph.baseline_survival_\n",
    "\n",
    "plt.figure(figsize=(16,10))\n",
    "\n",
    "plt.plot(avg_surv.index.to_numpy(), avg_surv.values, label=\"Average All-Star\")\n",
    "#plt.plot(survival_func4.index.to_numpy(), survival_func4.values, label=\"3 point taker\")\n",
    "plt.xlabel(\"Games Played\")\n",
    "plt.ylabel(\"Survival Probability\")\n",
    "plt.legend()\n",
    "plt.title(\"Average All-Star Survival\")\n",
    "plt.show()"
   ]
  },
  {
   "cell_type": "code",
   "execution_count": null,
   "id": "a9cab6ea-5c8f-4872-9e76-097804654f68",
   "metadata": {},
   "outputs": [],
   "source": [
    "import matplotlib.pyplot as plt\n",
    "baseline_survival = cph.baseline_survival_\n",
    "\n",
    "plt.figure(figsize=(16,10))\n",
    "plt.plot(baseline_survival.index.to_numpy(), baseline_survival.values, label=\"Baseline Survival\")\n",
    "\n",
    "example_player = important_df.mean().to_frame().T\n",
    "example_player[\"Fouls Drawn\"] = 7.57\n",
    "\n",
    "example2_player = important_df.mean().to_frame().T\n",
    "example2_player[\"Fouls Drawn\"] = 3.78\n",
    "\n",
    "example3_player = important_df.mean().to_frame().T\n",
    "example3_player[\"Fouls Drawn\"] = 3.53\n",
    "\n",
    "example4_player = important_df.mean().to_frame().T\n",
    "example4_player[\"<8 ft shots\"] = 0.0\n",
    "example4_player[\"8-16 ft shots\"] = 0.0\n",
    "example4_player[\"16-24 ft shots\"] = 0.0\n",
    "example4_player[\">24 ft shots\"] = 1.0\n",
    "\n",
    "survival_func = cph.predict_survival_function(example_player)\n",
    "survival_func2 = cph.predict_survival_function(example2_player)\n",
    "survival_func3 = cph.predict_survival_function(example3_player)\n",
    "survival_func4 = cph.predict_survival_function(example4_player)\n",
    "\n",
    "# Plot adjusted survival curve\n",
    "plt.plot(survival_func.index.to_numpy(), survival_func.values, label=\"7.57 Fouls Drawn (Giannis) \")\n",
    "plt.plot(survival_func2.index.to_numpy(), survival_func2.values, label=\"3.78 Fouls Drawn (Barnes)\")\n",
    "plt.plot(survival_func3.index.to_numpy(), survival_func3.values, label=\"3.53 Fouls Drawn (Curry)\")\n",
    "#plt.plot(survival_func4.index.to_numpy(), survival_func4.values, label=\"3 point taker\")\n",
    "plt.xlabel(\"Games Played\")\n",
    "plt.ylabel(\"Survival Probability\")\n",
    "plt.legend()\n",
    "plt.title(\"Baseline vs Adjusted Survival Curves\")\n",
    "plt.show()"
   ]
  },
  {
   "cell_type": "code",
   "execution_count": null,
   "id": "751f15ca-ddc5-4d9b-8c1e-e1a5d2d20b00",
   "metadata": {},
   "outputs": [],
   "source": [
    "curry_test = pd.DataFrame([[74, 185, 2025, 36, 70, 32.18, 8.06, 17.97, 4.44, 11.2, \n",
    "                           4.43, 6.01, 2.86, 1.14, 0.43, 0.67, 1.36, 3.53, 24.54, \n",
    "                           23.0, 10.0, 5.0, 62.0, 33.627031113038626, 0, 1.0, 0.0, 0.0, 0.0, 0.0]], columns=['Height', 'Weight', 'Season', \n",
    "                                'Age', 'Games Played', 'Minutes Per Game', 'Field Goals Made', \n",
    "                                 'Field Goals Attempted', '3 Pointers Made', '3 Pointers Attempted', 'Rebounds', 'Assists', 'Turnovers', \n",
    "                                 'Steals', 'Blocks', 'Blocked Shots', 'Fouls', 'Fouls Drawn', 'Points', '<8 ft shots', '8-16 ft shots', \n",
    "                                 '16-24 ft shots', '24+ ft shots', 'Usage Rate', 'Season-ending Injury', 'PG', 'SG', 'SF', 'PF', 'C'])"
   ]
  },
  {
   "cell_type": "code",
   "execution_count": null,
   "id": "d49e8b1b-4df3-423b-a2ff-20cfa9e568f9",
   "metadata": {},
   "outputs": [],
   "source": [
    "giannis_test = pd.DataFrame([[83, 243, 2025, 31, 67, 34.16, 11.84, 19.69, 0.21, 0.94, 11.91, \n",
    "                              6.46, 3.07, 0.87, 1.16, 1.13, 2.31, 7.57, 30.39, 68.0, 12.0, 15.0, 5.0, 37.09292555453789, 0, 0.0, 0.0, 0.0, 1.0, 0.0]], \n",
    "                                 columns=['Height', 'Weight', 'Season', \n",
    "                                'Age', 'Games Played', 'Minutes Per Game', 'Field Goals Made', \n",
    "                                 'Field Goals Attempted', '3 Pointers Made', '3 Pointers Attempted', 'Rebounds', 'Assists', 'Turnovers', \n",
    "                                 'Steals', 'Blocks', 'Blocked Shots', 'Fouls', 'Fouls Drawn', 'Points', '<8 ft shots', '8-16 ft shots', \n",
    "                                 '16-24 ft shots', '24+ ft shots', 'Usage Rate', 'Season-ending Injury', 'PG', 'SG', 'SF', 'PF', 'C'])"
   ]
  },
  {
   "cell_type": "code",
   "execution_count": null,
   "id": "b13653b8-ac2d-4c50-9d32-99cc43a9e6ac",
   "metadata": {},
   "outputs": [],
   "source": [
    "barnes_test = pd.DataFrame([[79, 237, 2025, 24, 65, 32.83, 7.29, 16.35, 1.17, 4.31, 7.72, 5.82, 2.83, 1.43, 0.97,\n",
    "                             0.62, 1.74, 3.78, 19.26, 42.0, 24.0, 8.0, 26.0, 29.991556520780684, 0, 0.0, 0.0, 1.0, 0.0, 0.0]], \n",
    "                           columns=['Height', 'Weight', 'Season', \n",
    "                                'Age', 'Games Played', 'Minutes Per Game', 'Field Goals Made', \n",
    "                                 'Field Goals Attempted', '3 Pointers Made', '3 Pointers Attempted', 'Rebounds', 'Assists', 'Turnovers', \n",
    "                                 'Steals', 'Blocks', 'Blocked Shots', 'Fouls', 'Fouls Drawn', 'Points', '<8 ft shots', '8-16 ft shots', \n",
    "                                 '16-24 ft shots', '24+ ft shots', 'Usage Rate', 'Season-ending Injury', 'PG', 'SG', 'SF', 'PF', 'C'])"
   ]
  },
  {
   "cell_type": "code",
   "execution_count": null,
   "id": "ec67bdee-5e43-4a1e-9c4e-adb57465df9f",
   "metadata": {},
   "outputs": [],
   "source": [
    "import matplotlib.pyplot as plt\n",
    "baseline_survival = cph.baseline_survival_\n",
    "\n",
    "plt.figure(figsize=(16,10))\n",
    "plt.plot(baseline_survival.index.to_numpy(), baseline_survival.values, label=\"Baseline Survival\")\n",
    "\n",
    "survival_func = cph.predict_survival_function(curry_test)\n",
    "survival_func2 = cph.predict_survival_function(giannis_test)\n",
    "survival_func3 = cph.predict_survival_function(barnes_test)\n",
    "survival_func4 = cph.predict_survival_function(example4_player)\n",
    "\n",
    "# Plot adjusted survival curve\n",
    "plt.plot(survival_func.index.to_numpy(), survival_func.values, label=\"2025 Giannis\")\n",
    "plt.plot(survival_func2.index.to_numpy(), survival_func2.values, label=\"2025 Barnes\")\n",
    "plt.plot(survival_func3.index.to_numpy(), survival_func3.values, label=\"2025 Curry\")\n",
    "#plt.plot(survival_func4.index.to_numpy(), survival_func4.values, label=\"3 point taker\")\n",
    "plt.xlabel(\"Games Played\")\n",
    "plt.ylabel(\"Survival Probability\")\n",
    "plt.legend()\n",
    "plt.title(\"Baseline vs Adjusted Survival Curves\")\n",
    "plt.show()"
   ]
  },
  {
   "cell_type": "code",
   "execution_count": null,
   "id": "fdffb017-ddc1-41d9-8ca0-90ce91dc225d",
   "metadata": {},
   "outputs": [],
   "source": [
    "survival_func"
   ]
  },
  {
   "cell_type": "code",
   "execution_count": null,
   "id": "c2af4cf8-2308-442f-8948-7599d97e17c3",
   "metadata": {},
   "outputs": [],
   "source": [
    "fantasy_test = pd.DataFrame([[73, 164, 2025, 26, 76, 36.04, 7.45, 18.11, 2.87, 8.45, 3.11, 11.58, 4.67, 1.2, 0.16, 0.87, 1.91, 5.66, 24.22, 28.999999999999996, 19.0, 6.0, 46.0, 36.8675732646684, 0, 1.0, 0.0, 0.0, 0.0, 0.0], \n",
    "                               [76, 186, 2025, 22, 82, 32.89, 7.41, 17.52, 2.85, 8.06, 4.6, 3.44, 2.48, 0.87, 0.33, 1.29, 1.55, 3.02, 21.01, 34.0, 9.0, 11.0, 46.0, 27.918616896052473, 0, 0.0, 1.0, 0.0, 0.0, 0.0], \n",
    "                               [79, 240, 2025, 27, 74, 36.57, 6.61, 13.88, 2.31, 6.22, 4.84, 2.22, 1.38, 1.49, 0.88, 1.2, 2.32, 2.36, 18.0, 45.0, 7.000000000000001, 4.0, 45.0, 20.218090331823277, 0, 0.0, 0.0, 1.0, 0.0, 0.0], \n",
    "                               [83, 240, 2025, 36, 62, 36.53, 9.55, 18.13, 2.58, 6.0, 6.03, 4.24, 3.06, 0.81, 1.24, 0.52, 1.68, 5.34, 26.56, 20.0, 38.0, 9.0, 33.0, 29.43261175553662, 0, 0.0, 0.0, 0.5, 0.5, 0.0], \n",
    "                               [81, 243, 2025, 26, 82, 28.0, 5.51, 7.8, 0.0, 0.06, 9.73, 1.93, 1.18, 0.94, 0.89, 0.57, 1.55, 3.13, 13.45, 87.0, 12.0, 1.0, 1.0, 16.2970693406768, 0, 0.0, 0.0, 0.0, 0.0, 1.0], \n",
    "                               [78, 206, 2025, 28, 75, 37.27, 8.72, 18.93, 2.44, 7.35, 4.07, 7.05, 2.93, 0.89, 0.21, 0.83, 2.64, 5.39, 25.64, 23.0, 25.0, 12.0, 39.0, 33.54551895561792, 0, 0.5, 0.5, 1.0, 0.0, 0.0], \n",
    "                               [80, 210, 2025, 29, 57, 31.58, 6.23, 13.11, 2.79, 7.16, 4.33, 3.4, 1.74, 0.93, 0.44, 0.63, 1.82, 2.98, 18.77, 28.999999999999996, 10.0, 6.0, 55.00000000000001, 24.875828750690985, 0, 0.0, 1.0, 0.0, 0.0, 0.0], \n",
    "                               [75, 185, 2025, 27, 17, 34.0, 7.35, 16.47, 1.53, 5.59, 4.29, 6.82, 2.41, 1.47, 0.29, 0.65, 2.71, 3.29, 19.71, 34.0, 22.0, 11.0, 33.0, 31.034191108161572, 0, 1.0, 0.0, 0.0, 0.0, 0.0], \n",
    "                               [84, 260, 2025, 29, 57, 29.58, 6.37, 10.16, 0.02, 0.05, 9.6, 2.77, 1.95, 1.16, 1.25, 0.61, 3.09, 2.28, 14.46, 72.0, 26.0, 1.0, 0.0, 19.19915775377338, 0, 0.0, 0.0, 0.0, 0.0, 1.0], \n",
    "                               [84, 252, 2025, 26, 40, 30.14, 6.62, 11.7, 0.15, 0.8, 10.15, 1.6, 1.73, 0.78, 0.97, 0.38, 2.2, 1.48, 14.4, 56.99999999999999, 25.0, 11.0, 7.000000000000001, 18.875997098436162, 0, 0.0, 0.0, 0.0, 0.0, 1.0], \n",
    "                               [75, 200, 2025, 27, 65, 31.6, 6.34, 14.45, 2.14, 6.58, 3.77, 5.57, 2.45, 0.94, 0.58, 0.83, 2.43, 2.29, 17.18, 34.0, 15.0, 5.0, 45.0, 28.38777175403318, 0, 0.0, 0.5, 0.5, 0.0, 0.0],\n",
    "                               [77, 200, 2025, 24, 64, 30.99, 6.16, 13.89, 2.47, 6.7, 3.98, 2.86, 1.38, 1.31, 0.52, 0.45, 1.69, 1.53, 16.27, 23.0, 20.0, 10.0, 48.0, 23.87432979748212, 0, 0.0, 0.5, 0.5, 0.0, 0.0]], \n",
    "                            columns=['Height', 'Weight', 'Season', \n",
    "                                'Age', 'Games Played', 'Minutes Per Game', 'Field Goals Made', \n",
    "                                 'Field Goals Attempted', '3 Pointers Made', '3 Pointers Attempted', 'Rebounds', 'Assists', 'Turnovers', \n",
    "                                 'Steals', 'Blocks', 'Blocked Shots', 'Fouls', 'Fouls Drawn', 'Points', '<8 ft shots', '8-16 ft shots', \n",
    "                                 '16-24 ft shots', '24+ ft shots', 'Usage Rate', 'Season-ending Injury', 'PG', 'SG', 'SF', 'PF', 'C'])"
   ]
  },
  {
   "cell_type": "code",
   "execution_count": null,
   "id": "54318905-3ce6-46e6-8bdf-ed8e5f63bfd9",
   "metadata": {},
   "outputs": [],
   "source": [
    "fantasy_test.iloc[0]"
   ]
  },
  {
   "cell_type": "code",
   "execution_count": null,
   "id": "4b420ca4-78d5-4b2a-9276-d82268af3a76",
   "metadata": {},
   "outputs": [],
   "source": [
    "fantasy_picks = ['Trae Young', 'Jalen Green', 'OG Anunoby', 'Kevin Durant', 'Jarrett Allen', 'Devin Booker', 'Cameron Johnson', \"De'Aaron Fox\", 'Jakob Poeltl', 'Deandre Ayton', 'Malik Monk', 'Devin Vassell']"
   ]
  },
  {
   "cell_type": "code",
   "execution_count": null,
   "id": "3a231998-e288-4593-b174-8930017c229c",
   "metadata": {},
   "outputs": [],
   "source": [
    "import matplotlib.pyplot as plt\n",
    "baseline_survival = cph.baseline_survival_\n",
    "\n",
    "# Plot baseline\n",
    "plt.figure(figsize=(16,10))\n",
    "plt.plot(baseline_survival.index.to_numpy(), baseline_survival.values, label=\"Baseline Survival\")\n",
    "\n",
    "for i in range(len(fantasy_picks)):\n",
    "    survival_func = cph.predict_survival_function(fantasy_test.iloc[i])\n",
    "    print(fantasy_picks[i] + ':', survival_func.iloc[77, 0])\n",
    "    \n",
    "    plt.plot(survival_func.index.to_numpy(), survival_func.values, label=f\"2025 {fantasy_picks[i]}\")\n",
    "\n",
    "plt.xlabel(\"Games Played\")\n",
    "plt.ylabel(\"Survival Probability\")\n",
    "plt.legend()\n",
    "plt.title(\"Baseline vs Adjusted Survival Curves\")\n",
    "plt.show()"
   ]
  },
  {
   "cell_type": "code",
   "execution_count": null,
   "id": "34770289-9c94-4b4b-b389-113054974749",
   "metadata": {},
   "outputs": [],
   "source": [
    "table_view = pd.DataFrame([[\"Trae Young\", 0.9067999733742572], \n",
    "                           [\"Devin Booker\", 0.8285557035650096], \n",
    "                           [\"De'Aaron Fox\", 0.922963414095947],\n",
    "                           [\"Kevin Durant\", 0.3607880423391926],\n",
    "                           [\"Jarrett Allen\", 0.982203993978336],\n",
    "                           [\"Jalen Green\", 0.7408110027028585], \n",
    "                           [\"OG Anunoby\", 0.8925162212703198],\n",
    "                           [\"Jakob Poeltl\", 0.9681631214091581],\n",
    "                           [\"Malik Monk\", 0.9262361584885017],\n",
    "                           [\"Deandre Ayton\", 0.9562617246288591],\n",
    "                           [\"Devin Vassell\", 0.9288135921418312],\n",
    "                           [\"Cameron Johnson\", 0.9287382565273111]], \n",
    "                           columns=[\"Player\", \"Survival Likelihood\"])\n",
    "table_view = table_view.round(3)\n",
    "table_view.iloc[:, 1] = table_view.iloc[:, 1] * 100.0\n",
    "table_view.index +=1 \n",
    "print(tabulate(table_view, headers=[\"Likelihood of surviving 82 games (%)\"], tablefmt=\"fancy_grid\"))"
   ]
  },
  {
   "cell_type": "code",
   "execution_count": null,
   "id": "fb100a76-056d-44d3-8f5c-103883ef4f60",
   "metadata": {},
   "outputs": [],
   "source": [
    "summary = cph.summary[[\"exp(coef)\", \"exp(coef) lower 95%\", \"exp(coef) upper 95%\"]]\n",
    "summary = summary.sort_values(\"exp(coef)\")\n",
    "\n",
    "plt.figure(figsize=(10, 7))\n",
    "y_positions = range(len(summary))\n",
    "plt.xlim(0, 3)\n",
    "plt.errorbar(\n",
    "    summary[\"exp(coef)\"], y_positions,\n",
    "    xerr=[summary[\"exp(coef)\"] - summary[\"exp(coef) lower 95%\"],\n",
    "          summary[\"exp(coef) upper 95%\"] - summary[\"exp(coef)\"]],\n",
    "    fmt=\"o\", color=\"black\", ecolor=\"gray\", capsize=3\n",
    ")\n",
    "\n",
    "plt.axvline(x=1, color=\"red\", linestyle=\"--\")\n",
    "\n",
    "plt.yticks(y_positions, summary.index)\n",
    "plt.xlabel(\"Hazard Ratio (HR)\")\n",
    "plt.title(\"Hazard Ratios with 95% Confidence Intervals\")\n",
    "plt.grid(axis=\"x\", linestyle=\"--\", alpha=0.6)\n",
    "\n",
    "plt.tight_layout()\n",
    "plt.show()"
   ]
  },
  {
   "cell_type": "code",
   "execution_count": null,
   "id": "0c8c63b0-96b4-4665-b490-e56c3923360c",
   "metadata": {},
   "outputs": [],
   "source": []
  }
 ],
 "metadata": {
  "kernelspec": {
   "display_name": "Python 3 (ipykernel)",
   "language": "python",
   "name": "python3"
  },
  "language_info": {
   "codemirror_mode": {
    "name": "ipython",
    "version": 3
   },
   "file_extension": ".py",
   "mimetype": "text/x-python",
   "name": "python",
   "nbconvert_exporter": "python",
   "pygments_lexer": "ipython3",
   "version": "3.9.7"
  }
 },
 "nbformat": 4,
 "nbformat_minor": 5
}
